{
 "cells": [
  {
   "cell_type": "markdown",
   "id": "7331d697",
   "metadata": {},
   "source": [
    "#### 1 - Напишите код, моделирующий выпадение поля в рулетке (с учетом поля зеро). "
   ]
  },
  {
   "cell_type": "code",
   "execution_count": 70,
   "id": "0e90bfcf",
   "metadata": {},
   "outputs": [],
   "source": [
    "import numpy as np\n",
    "import matplotlib.pyplot as plt\n",
    "import math\n",
    "import itertools"
   ]
  },
  {
   "cell_type": "code",
   "execution_count": 3,
   "id": "0dc97686",
   "metadata": {},
   "outputs": [
    {
     "name": "stdout",
     "output_type": "stream",
     "text": [
      "Делайте ваши ставки: 12\n",
      "В другой раз\n",
      "Продолжить?12\n",
      "Делайте ваши ставки: 12\n",
      "В другой раз\n",
      "Продолжить?12\n",
      "Делайте ваши ставки: 12\n",
      "В другой раз\n",
      "Продолжить?12\n",
      "Делайте ваши ставки: 1\n",
      "В другой раз\n",
      "Продолжить?1\n",
      "Делайте ваши ставки: 1\n",
      "В другой раз\n",
      "Продолжить?1\n",
      "Делайте ваши ставки: \n"
     ]
    },
    {
     "ename": "ValueError",
     "evalue": "invalid literal for int() with base 10: ''",
     "output_type": "error",
     "traceback": [
      "\u001b[1;31m---------------------------------------------------------------------------\u001b[0m",
      "\u001b[1;31mValueError\u001b[0m                                Traceback (most recent call last)",
      "\u001b[1;32m~\\AppData\\Local\\Temp/ipykernel_9748/2520667533.py\u001b[0m in \u001b[0;36m<module>\u001b[1;34m\u001b[0m\n\u001b[0;32m      1\u001b[0m \u001b[1;32mwhile\u001b[0m \u001b[1;32mTrue\u001b[0m\u001b[1;33m:\u001b[0m\u001b[1;33m\u001b[0m\u001b[1;33m\u001b[0m\u001b[0m\n\u001b[1;32m----> 2\u001b[1;33m     \u001b[0muser\u001b[0m \u001b[1;33m=\u001b[0m \u001b[0mint\u001b[0m\u001b[1;33m(\u001b[0m\u001b[0minput\u001b[0m\u001b[1;33m(\u001b[0m\u001b[1;34m'Делайте ваши ставки: '\u001b[0m\u001b[1;33m)\u001b[0m\u001b[1;33m)\u001b[0m\u001b[1;33m\u001b[0m\u001b[1;33m\u001b[0m\u001b[0m\n\u001b[0m\u001b[0;32m      3\u001b[0m     \u001b[0mluck\u001b[0m \u001b[1;33m=\u001b[0m \u001b[0mnp\u001b[0m\u001b[1;33m.\u001b[0m\u001b[0mrandom\u001b[0m\u001b[1;33m.\u001b[0m\u001b[0mrandint\u001b[0m\u001b[1;33m(\u001b[0m\u001b[1;36m0\u001b[0m\u001b[1;33m,\u001b[0m\u001b[1;36m38\u001b[0m\u001b[1;33m)\u001b[0m\u001b[1;33m\u001b[0m\u001b[1;33m\u001b[0m\u001b[0m\n\u001b[0;32m      4\u001b[0m     \u001b[1;32mif\u001b[0m \u001b[0muser\u001b[0m \u001b[1;33m==\u001b[0m \u001b[0mluck\u001b[0m\u001b[1;33m:\u001b[0m\u001b[1;33m\u001b[0m\u001b[1;33m\u001b[0m\u001b[0m\n\u001b[0;32m      5\u001b[0m         \u001b[0mprint\u001b[0m\u001b[1;33m(\u001b[0m\u001b[1;34mf'Число {user}, совпадает с {luck}, вы победили'\u001b[0m\u001b[1;33m)\u001b[0m\u001b[1;33m\u001b[0m\u001b[1;33m\u001b[0m\u001b[0m\n",
      "\u001b[1;31mValueError\u001b[0m: invalid literal for int() with base 10: ''"
     ]
    }
   ],
   "source": [
    "while True:\n",
    "    user = int(input('Делайте ваши ставки: '))\n",
    "    luck = np.random.randint(0,38)\n",
    "    if user == luck:\n",
    "        print(f'Число {user}, совпадает с {luck}, вы победили')\n",
    "    else:\n",
    "        print('В другой раз')\n",
    "    decision = input('Продолжить?')\n",
    "    if decision == '':\n",
    "        break"
   ]
  },
  {
   "cell_type": "markdown",
   "id": "611273cc",
   "metadata": {},
   "source": [
    "#### 2 - Напишите код, проверяющий любую из теорем сложения или умножения вероятности на примере рулетки или подбрасывания монетки."
   ]
  },
  {
   "cell_type": "markdown",
   "id": "22e0be0b",
   "metadata": {},
   "source": [
    "#### Для примера возьмем теорему для противоположных событий: P(A) + P(B) = 1"
   ]
  },
  {
   "cell_type": "code",
   "execution_count": 5,
   "id": "7ce96501",
   "metadata": {},
   "outputs": [
    {
     "name": "stdout",
     "output_type": "stream",
     "text": [
      "0.5 0.5 True\n"
     ]
    }
   ],
   "source": [
    "P = 1\n",
    "# Находим вероятность выпадения орла при 1 броске монетки\n",
    "p_o = 1/2\n",
    "# Тогда вероятность выпадения решки = 1 - p_o и следовательна их сумма = 1\n",
    "p_r = P - p_o\n",
    "print(p_o, p_r, P==p_r + p_o)"
   ]
  },
  {
   "cell_type": "markdown",
   "id": "5186d3a1",
   "metadata": {},
   "source": [
    "#### Сгенерируйте десять выборок случайных чисел х0, …, х9. и постройте гистограмму распределения случайной суммы  +х0+ …+ х 9. "
   ]
  },
  {
   "cell_type": "code",
   "execution_count": 20,
   "id": "ac8e30b4",
   "metadata": {},
   "outputs": [
    {
     "data": {
      "text/plain": [
       "Text(0, 0.5, 'Probavility')"
      ]
     },
     "execution_count": 20,
     "metadata": {},
     "output_type": "execute_result"
    },
    {
     "data": {
      "image/png": "[encoded data removed]",
      "text/plain": [
       "<Figure size 432x288 with 1 Axes>"
      ]
     },
     "metadata": {
      "needs_background": "light"
     },
     "output_type": "display_data"
    }
   ],
   "source": [
    "X=[]\n",
    "Y = []\n",
    "for i in range(10):\n",
    "    X.append(sum(np.random.rand(10)))\n",
    "num_bins = 5\n",
    "n, bins, patches = plt.hist(X, num_bins)\n",
    "plt.xlabel('X')\n",
    "plt.ylabel('Probavility')"
   ]
  },
  {
   "cell_type": "markdown",
   "id": "2c059b39",
   "metadata": {},
   "source": [
    "#### 3 - Дополните код Монте-Карло последовательности независимых испытаний расчетом соответствующих вероятностей (через биномиальное распределение) и сравните результаты.\n"
   ]
  },
  {
   "cell_type": "code",
   "execution_count": 61,
   "id": "717dc96f",
   "metadata": {},
   "outputs": [
    {
     "name": "stdout",
     "output_type": "stream",
     "text": [
      "3 10 0.3\n",
      "120.0 0.5\n"
     ]
    }
   ],
   "source": [
    "k,n = 0, 10\n",
    "a = np.random.randint(0,2,n)\n",
    "b = np.random.randint(0,2,n)\n",
    "c = np.random.randint(0,2,n)\n",
    "d = np.random.randint(0,2,n)\n",
    "x = a + b + c + d\n",
    "for i in range(0, n):\n",
    "    if x[i] == 2:\n",
    "        k = k + 1\n",
    "print(k,n,k/n)\n",
    "C = (math.factorial(n))/(math.factorial(k)*(math.factorial(n-k)))\n",
    "P = 0.5\n",
    "Q = 1 - P\n",
    "Pn = C*P**2*Q**(n-k)\n",
    "print(C, P)"
   ]
  },
  {
   "cell_type": "code",
   "execution_count": 66,
   "id": "3a4b69f9",
   "metadata": {},
   "outputs": [
    {
     "name": "stdout",
     "output_type": "stream",
     "text": [
      "4 20 0.2\n",
      "4845.0 0.5\n"
     ]
    }
   ],
   "source": [
    "k,n = 0, 20\n",
    "a = np.random.randint(0,2,n)\n",
    "b = np.random.randint(0,2,n)\n",
    "c = np.random.randint(0,2,n)\n",
    "d = np.random.randint(0,2,n)\n",
    "x = a + b + c + d\n",
    "for i in range(0, n):\n",
    "    if x[i] == 2:\n",
    "        k = k + 1\n",
    "print(k,n,k/n)\n",
    "C = (math.factorial(n))/(math.factorial(k)*(math.factorial(n-k)))\n",
    "P = 0.5\n",
    "Q = 1 - P\n",
    "Pn = C*P**2*Q**(n-k)\n",
    "print(C, P)"
   ]
  },
  {
   "cell_type": "markdown",
   "id": "260ba006",
   "metadata": {},
   "source": [
    "#### 4 - (не обязательно, но желательно) Из урока по комбинаторике повторите расчеты, сгенерировав возможные варианты перестановок для других значений n и k\n"
   ]
  },
  {
   "cell_type": "code",
   "execution_count": 72,
   "id": "09790ad4",
   "metadata": {},
   "outputs": [
    {
     "name": "stdout",
     "output_type": "stream",
     "text": [
      "01\n",
      "03\n",
      "10\n",
      "13\n",
      "30\n",
      "31\n"
     ]
    }
   ],
   "source": [
    "for p in itertools.permutations(\"013\", 2):\n",
    "    print(''.join(p))"
   ]
  },
  {
   "cell_type": "code",
   "execution_count": 74,
   "id": "a376d467",
   "metadata": {},
   "outputs": [
    {
     "name": "stdout",
     "output_type": "stream",
     "text": [
      "132\n",
      "135\n",
      "125\n",
      "325\n"
     ]
    }
   ],
   "source": [
    "for p in itertools.combinations(\"1325\", 3):\n",
    "    print(''.join(p))"
   ]
  },
  {
   "cell_type": "code",
   "execution_count": 78,
   "id": "fa00c39c",
   "metadata": {},
   "outputs": [
    {
     "name": "stdout",
     "output_type": "stream",
     "text": [
      "11\n",
      "12\n",
      "21\n",
      "22\n"
     ]
    }
   ],
   "source": [
    "for p in itertools.product(\"12\", repeat=2):\n",
    "    print(''.join(p))"
   ]
  }
 ],
 "metadata": {
  "kernelspec": {
   "display_name": "Python 3 (ipykernel)",
   "language": "python",
   "name": "python3"
  },
  "language_info": {
   "codemirror_mode": {
    "name": "ipython",
    "version": 3
   },
   "file_extension": ".py",
   "mimetype": "text/x-python",
   "name": "python",
   "nbconvert_exporter": "python",
   "pygments_lexer": "ipython3",
   "version": "3.9.7"
  }
 },
 "nbformat": 4,
 "nbformat_minor": 5
}
